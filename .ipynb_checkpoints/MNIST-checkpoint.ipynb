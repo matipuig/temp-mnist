{
 "cells": [
  {
   "cell_type": "markdown",
   "id": "concerned-catholic",
   "metadata": {},
   "source": [
    "**Importamos el dataset de MNIST en Python**: \n",
    "\n",
    "utilizamos el que ya está cargado en el mismo keras."
   ]
  },
  {
   "cell_type": "code",
   "execution_count": null,
   "id": "eleven-belize",
   "metadata": {},
   "outputs": [],
   "source": [
    "from keras.datasets import mnist\n",
    "(X_train_raw, Y_train_raw), (X_test_raw, Y_test_raw) = mnist.load_data()"
   ]
  },
  {
   "cell_type": "markdown",
   "id": "thrown-appointment",
   "metadata": {},
   "source": [
    "**Vemos cómo esta compuesto el dataset**: es un conjunto de 3 dimensiones: 60.000 x 28 x 28 (60.000 imágenes de 28 pixeles cuadrado)"
   ]
  },
  {
   "cell_type": "code",
   "execution_count": null,
   "id": "limited-postcard",
   "metadata": {},
   "outputs": [],
   "source": [
    "X_train_raw.shape"
   ]
  },
  {
   "cell_type": "markdown",
   "id": "failing-color",
   "metadata": {},
   "source": [
    "**Vemos una de las 60.000 imágenes de MNIST de ejemplo**:"
   ]
  },
  {
   "cell_type": "code",
   "execution_count": null,
   "id": "transparent-guyana",
   "metadata": {},
   "outputs": [],
   "source": [
    "import matplotlib.pyplot as plt\n",
    "plt.gray()\n",
    "plt.imshow(X_train_raw[2])"
   ]
  },
  {
   "cell_type": "markdown",
   "id": "asian-boring",
   "metadata": {},
   "source": [
    "**Vemos cómo está representado este número como vectores**:"
   ]
  },
  {
   "cell_type": "code",
   "execution_count": null,
   "id": "elegant-dialogue",
   "metadata": {},
   "outputs": [],
   "source": [
    "X_train_raw[2]"
   ]
  },
  {
   "cell_type": "markdown",
   "id": "ecological-cassette",
   "metadata": {},
   "source": [
    "**Vemos la forma de los resultados de entrenamiento**: tiene una sola dimensión, los 60.000 resultados "
   ]
  },
  {
   "cell_type": "code",
   "execution_count": null,
   "id": "standing-fight",
   "metadata": {},
   "outputs": [],
   "source": [
    "Y_train_raw.shape"
   ]
  },
  {
   "cell_type": "markdown",
   "id": "fabulous-bryan",
   "metadata": {},
   "source": [
    "**Vemos algunos resultados**: son los diferentes números representados en cada uno de los 60.000 vectores del dataset."
   ]
  },
  {
   "cell_type": "code",
   "execution_count": null,
   "id": "sufficient-acceptance",
   "metadata": {},
   "outputs": [],
   "source": [
    "Y_train_raw[0:50]"
   ]
  },
  {
   "cell_type": "markdown",
   "id": "civil-inside",
   "metadata": {},
   "source": [
    "**Hay que \"normalizar\" los datasets**"
   ]
  },
  {
   "cell_type": "code",
   "execution_count": null,
   "id": "focused-complement",
   "metadata": {},
   "outputs": [],
   "source": [
    "# Convertir todo a una sola fila.\n",
    "X_train = X_train_raw.reshape(60000,784)\n",
    "X_test = X_test_raw.reshape(10000, 784)\n",
    "\n",
    "# Pasarlos a valores entre 0 y 1.\n",
    "X_train = X_train / 255\n",
    "X_test = X_test / 255"
   ]
  },
  {
   "cell_type": "markdown",
   "id": "convenient-latino",
   "metadata": {},
   "source": [
    "**Vemos uno de ejemplo, para ver cómo quedó**:"
   ]
  },
  {
   "cell_type": "code",
   "execution_count": null,
   "id": "consistent-tiger",
   "metadata": {},
   "outputs": [],
   "source": [
    "X_test[0]"
   ]
  },
  {
   "cell_type": "markdown",
   "id": "governmental-defensive",
   "metadata": {},
   "source": [
    "**Ahora hay que acomodar los resultados a forma vectorial (one-hot)**: "
   ]
  },
  {
   "cell_type": "code",
   "execution_count": null,
   "id": "streaming-future",
   "metadata": {},
   "outputs": [],
   "source": [
    "from tensorflow import keras\n",
    "utils = keras.utils\n",
    "Y_train = utils.to_categorical(Y_train_raw, 10)\n",
    "Y_test = utils.to_categorical(Y_test_raw, 10)"
   ]
  },
  {
   "cell_type": "markdown",
   "id": "assumed-imaging",
   "metadata": {},
   "source": [
    "**Veo ahora cómo quedaron los resultados**: como una matriz de 60.000 x 10"
   ]
  },
  {
   "cell_type": "code",
   "execution_count": null,
   "id": "opposite-morris",
   "metadata": {},
   "outputs": [],
   "source": [
    "Y_train.shape"
   ]
  },
  {
   "cell_type": "code",
   "execution_count": null,
   "id": "limited-somalia",
   "metadata": {},
   "outputs": [],
   "source": [
    "Y_train[0:10]"
   ]
  },
  {
   "cell_type": "markdown",
   "id": "transsexual-sweet",
   "metadata": {},
   "source": [
    "**Genero un modelo para entrenar**: usamos Keras por sencillez."
   ]
  },
  {
   "cell_type": "code",
   "execution_count": null,
   "id": "rapid-minority",
   "metadata": {},
   "outputs": [],
   "source": [
    "from keras.layers.core import Dense, Dropout, Activation\n",
    "model = keras.Sequential()\n",
    "model.add(Dense(2, activation=\"relu\"))\n",
    "model.add(Dense(10, activation=\"softmax\"))"
   ]
  },
  {
   "cell_type": "code",
   "execution_count": null,
   "id": "accessory-dublin",
   "metadata": {},
   "outputs": [],
   "source": [
    "model.compile(loss='categorical_crossentropy', metrics=['accuracy'])"
   ]
  },
  {
   "cell_type": "code",
   "execution_count": null,
   "id": "advised-south",
   "metadata": {},
   "outputs": [],
   "source": [
    "result = model.fit(X_train, Y_train,\n",
    "          batch_size=30, epochs=4,\n",
    "          verbose=1,\n",
    "          validation_data=(X_test, Y_test))"
   ]
  },
  {
   "cell_type": "markdown",
   "id": "fourth-petersburg",
   "metadata": {},
   "source": [
    "**Veo resultados graficados**:"
   ]
  },
  {
   "cell_type": "code",
   "execution_count": null,
   "id": "worldwide-register",
   "metadata": {},
   "outputs": [],
   "source": [
    "plt.plot(result.history['accuracy'])\n",
    "plt.plot(result.history['val_accuracy'])\n",
    "plt.ylabel('Precisión')\n",
    "plt.xlabel('Iteración')\n",
    "plt.legend(['Entrenamiento', 'Test'])"
   ]
  },
  {
   "cell_type": "markdown",
   "id": "roman-damage",
   "metadata": {},
   "source": [
    "**Veo las predicciones para los resultados en el test**:"
   ]
  },
  {
   "cell_type": "code",
   "execution_count": null,
   "id": "vocational-outreach",
   "metadata": {},
   "outputs": [],
   "source": [
    "predictions = model.predict_classes(X_test)\n",
    "predictions[0:50]"
   ]
  },
  {
   "cell_type": "markdown",
   "id": "democratic-sitting",
   "metadata": {},
   "source": [
    "**Comparo con los resultados reales de Y_test**:"
   ]
  },
  {
   "cell_type": "code",
   "execution_count": null,
   "id": "banned-acceptance",
   "metadata": {},
   "outputs": [],
   "source": [
    "Y_test_raw[0:50]"
   ]
  },
  {
   "cell_type": "code",
   "execution_count": null,
   "id": "developmental-influence",
   "metadata": {},
   "outputs": [],
   "source": []
  }
 ],
 "metadata": {
  "kernelspec": {
   "display_name": "Python 3",
   "language": "python",
   "name": "python3"
  },
  "language_info": {
   "codemirror_mode": {
    "name": "ipython",
    "version": 3
   },
   "file_extension": ".py",
   "mimetype": "text/x-python",
   "name": "python",
   "nbconvert_exporter": "python",
   "pygments_lexer": "ipython3",
   "version": "3.8.0"
  }
 },
 "nbformat": 4,
 "nbformat_minor": 5
}
