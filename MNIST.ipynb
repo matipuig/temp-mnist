{
 "cells": [
  {
   "cell_type": "markdown",
   "id": "widespread-valve",
   "metadata": {},
   "source": [
    "**Importamos el dataset de MNIST en Python**: \n",
    "\n",
    "utilizamos el que ya está cargado en el mismo keras."
   ]
  },
  {
   "cell_type": "code",
   "execution_count": null,
   "id": "fossil-uzbekistan",
   "metadata": {},
   "outputs": [],
   "source": [
    "from keras.datasets import mnist\n",
    "(X_train, Y_train), (X_test, Y_test) = mnist.load_data()"
   ]
  },
  {
   "cell_type": "markdown",
   "id": "entertaining-attraction",
   "metadata": {},
   "source": [
    "**Vemos cómo esta compuesto el dataset**: es un conjunto de 3 dimensiones: 60.000 x 28 x 28 (60.000 imágenes de 28 pixeles cuadrado)"
   ]
  },
  {
   "cell_type": "code",
   "execution_count": null,
   "id": "literary-bankruptcy",
   "metadata": {},
   "outputs": [],
   "source": [
    "X_train.shape"
   ]
  },
  {
   "cell_type": "markdown",
   "id": "bottom-northwest",
   "metadata": {},
   "source": [
    "**Vemos una de las 60.000 imágenes de MNIST de ejemplo**:"
   ]
  },
  {
   "cell_type": "code",
   "execution_count": null,
   "id": "angry-service",
   "metadata": {},
   "outputs": [],
   "source": [
    "import matplotlib.pyplot as plt\n",
    "plt.gray()\n",
    "plt.imshow(X_train[3])"
   ]
  },
  {
   "cell_type": "markdown",
   "id": "polyphonic-exhibition",
   "metadata": {},
   "source": [
    "**Vemos cómo está representado este número como vectores**:"
   ]
  },
  {
   "cell_type": "code",
   "execution_count": null,
   "id": "heavy-endorsement",
   "metadata": {},
   "outputs": [],
   "source": [
    "X_train[0]"
   ]
  },
  {
   "cell_type": "markdown",
   "id": "conditional-privacy",
   "metadata": {},
   "source": [
    "**Vemos la forma de los resultados de entrenamiento**: tiene una sola dimensión, los 60.000 resultados "
   ]
  },
  {
   "cell_type": "code",
   "execution_count": null,
   "id": "auburn-suspect",
   "metadata": {},
   "outputs": [],
   "source": [
    "Y_train.shape"
   ]
  },
  {
   "cell_type": "markdown",
   "id": "mexican-alexander",
   "metadata": {},
   "source": [
    "**Vemos algunos resultados**: son los diferentes números representados en cada uno de los 60.000 vectores del dataset."
   ]
  },
  {
   "cell_type": "code",
   "execution_count": null,
   "id": "aboriginal-victor",
   "metadata": {},
   "outputs": [],
   "source": [
    "Y_train[0:50]"
   ]
  },
  {
   "cell_type": "markdown",
   "id": "interracial-drill",
   "metadata": {},
   "source": [
    "**Hay que \"normalizar\" los datasets**"
   ]
  },
  {
   "cell_type": "code",
   "execution_count": null,
   "id": "paperback-termination",
   "metadata": {},
   "outputs": [],
   "source": [
    "# Convertir todo a una sola fila.\n",
    "X_train = X_train.reshape(60000,784)\n",
    "X_test = X_test.reshape(10000, 784)\n",
    "\n",
    "# Pasarlos a valores entre 0 y 1.\n",
    "X_train = X_train / 255\n",
    "X_test = X_test / 255"
   ]
  },
  {
   "cell_type": "markdown",
   "id": "present-briefing",
   "metadata": {},
   "source": [
    "**Vemos uno de ejemplo, para ver cómo quedó**:"
   ]
  },
  {
   "cell_type": "code",
   "execution_count": null,
   "id": "attractive-definition",
   "metadata": {},
   "outputs": [],
   "source": [
    "X_test[0]"
   ]
  },
  {
   "cell_type": "markdown",
   "id": "advance-sculpture",
   "metadata": {},
   "source": [
    "**Ahora hay que acomodar los resultados a forma vectorial (one-hot)**: "
   ]
  },
  {
   "cell_type": "code",
   "execution_count": null,
   "id": "healthy-passion",
   "metadata": {},
   "outputs": [],
   "source": [
    "from tensorflow import keras\n",
    "utils = keras.utils\n",
    "Y_train = utils.to_categorical(Y_train, 10)\n",
    "Y_test = utils.to_categorical(Y_test, 10)"
   ]
  },
  {
   "cell_type": "markdown",
   "id": "alpine-compilation",
   "metadata": {},
   "source": [
    "**Veo ahora cómo quedaron los resultados**: como una matriz de 60.000 x 10"
   ]
  },
  {
   "cell_type": "code",
   "execution_count": null,
   "id": "consolidated-philadelphia",
   "metadata": {},
   "outputs": [],
   "source": [
    "Y_train.shape"
   ]
  },
  {
   "cell_type": "code",
   "execution_count": null,
   "id": "framed-hampshire",
   "metadata": {},
   "outputs": [],
   "source": [
    "Y_train[0:10]"
   ]
  },
  {
   "cell_type": "markdown",
   "id": "latter-consortium",
   "metadata": {},
   "source": [
    "**Genero un modelo para entrenar**: usamos Keras por sencillez."
   ]
  },
  {
   "cell_type": "code",
   "execution_count": null,
   "id": "muslim-jackson",
   "metadata": {},
   "outputs": [],
   "source": [
    "from keras.layers.core import Dense, Dropout, Activation\n",
    "model = keras.Sequential()\n",
    "model.add(Dense(100))\n",
    "model.add(Activation('relu'))\n",
    "model.add(Dense(10))\n",
    "model.add(Activation('softmax'))"
   ]
  },
  {
   "cell_type": "code",
   "execution_count": null,
   "id": "precise-numbers",
   "metadata": {},
   "outputs": [],
   "source": [
    "model.compile(loss='categorical_crossentropy', metrics=['accuracy'])"
   ]
  },
  {
   "cell_type": "code",
   "execution_count": null,
   "id": "congressional-schema",
   "metadata": {},
   "outputs": [],
   "source": [
    "result = model.fit(X_train, Y_train,\n",
    "          batch_size=1500, epochs=50,\n",
    "          verbose=1,\n",
    "          validation_data=(X_test, Y_test))"
   ]
  },
  {
   "cell_type": "markdown",
   "id": "extra-tribe",
   "metadata": {},
   "source": [
    "**Veo resultados graficados**:"
   ]
  },
  {
   "cell_type": "code",
   "execution_count": null,
   "id": "graphic-bankruptcy",
   "metadata": {},
   "outputs": [],
   "source": [
    "plt.plot(result.history['accuracy'])\n",
    "plt.plot(result.history['val_accuracy'])\n",
    "plt.ylabel('Precisión')\n",
    "plt.xlabel('Iteración')\n",
    "plt.legend(['Entrenamiento', 'Test'])"
   ]
  },
  {
   "cell_type": "markdown",
   "id": "olive-laser",
   "metadata": {},
   "source": []
  }
 ],
 "metadata": {
  "kernelspec": {
   "display_name": "Python 3",
   "language": "python",
   "name": "python3"
  },
  "language_info": {
   "codemirror_mode": {
    "name": "ipython",
    "version": 3
   },
   "file_extension": ".py",
   "mimetype": "text/x-python",
   "name": "python",
   "nbconvert_exporter": "python",
   "pygments_lexer": "ipython3",
   "version": "3.8.0"
  }
 },
 "nbformat": 4,
 "nbformat_minor": 5
}
